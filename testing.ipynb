{
 "cells": [
  {
   "cell_type": "code",
   "execution_count": 1,
   "metadata": {},
   "outputs": [
    {
     "name": "stderr",
     "output_type": "stream",
     "text": [
      "/home/revess/anaconda3/envs/BNS/lib/python3.9/site-packages/tqdm/auto.py:22: TqdmWarning: IProgress not found. Please update jupyter and ipywidgets. See https://ipywidgets.readthedocs.io/en/stable/user_install.html\n",
      "  from .autonotebook import tqdm as notebook_tqdm\n"
     ]
    }
   ],
   "source": [
    "from BNReasoner import BNReasoner\n",
    "import numpy as np\n",
    "import pandas as pd\n",
    "import time as t\n",
    "import matplotlib.pylab as plt\n",
    "reasoner = BNReasoner(\"./testing/work-from-home-problem.BIFXML\")"
   ]
  },
  {
   "attachments": {},
   "cell_type": "markdown",
   "metadata": {},
   "source": [
    "Performance scenarios are randomized"
   ]
  },
  {
   "cell_type": "code",
   "execution_count": 2,
   "metadata": {},
   "outputs": [],
   "source": [
    "nodes = reasoner.bn.get_all_variables()\n",
    "mediumLength = 3\n",
    "highLength = 6\n",
    "randMax = 6\n",
    "scenarios = {\n",
    "    \"s1\": {\"Q\": np.random.choice(nodes,1).tolist(),\"e\":{}},\n",
    "    \"s2\": {\"Q\": np.random.choice(nodes,1).tolist(),\"e\": {k:v for k,v in zip(np.random.choice(nodes,1).tolist(),np.random.choice([True,False],1).tolist())}},\n",
    "    \"s3\": {\"Q\": np.random.choice(nodes,1).tolist(),\"e\": {k:v for k,v in zip(np.random.choice(nodes,mediumLength).tolist(),np.random.choice([True,False],mediumLength).tolist())}},\n",
    "    \"s4\": {\"Q\": np.random.choice(nodes,1).tolist(),\"e\": {k:v for k,v in zip(np.random.choice(nodes,highLength).tolist(),np.random.choice([True,False],highLength).tolist())}},\n",
    "    \"s5\": {\"Q\": np.random.choice(nodes,np.random.randint(2,randMax)).tolist(),\"e\": {}},\n",
    "    \"s6\": {\"Q\": np.random.choice(nodes,np.random.randint(2,randMax)).tolist(),\"e\": {k:v for k,v in zip(np.random.choice(nodes,1).tolist(),np.random.choice([True,False],1).tolist())}},\n",
    "    \"s7\": {\"Q\": np.random.choice(nodes,np.random.randint(2,randMax)).tolist(),\"e\": {k:v for k,v in zip(np.random.choice(nodes,mediumLength).tolist(),np.random.choice([True,False],mediumLength).tolist())}},\n",
    "    \"s8\": {\"Q\": np.random.choice(nodes,np.random.randint(2,randMax)).tolist(),\"e\": {k:v for k,v in zip(np.random.choice(nodes,highLength).tolist(),np.random.choice([True,False],highLength).tolist())}},\n",
    "}"
   ]
  },
  {
   "attachments": {},
   "cell_type": "markdown",
   "metadata": {},
   "source": [
    "Questions"
   ]
  },
  {
   "cell_type": "code",
   "execution_count": 3,
   "metadata": {},
   "outputs": [],
   "source": [
    "questions = {\n",
    "    \"Variable Elimination\":[\n",
    "        {\"Q\":[\"car\"], \n",
    "        \"e\":{}}\n",
    "    ],\n",
    "    \"MPE\": [\n",
    "        {\"Q\":[], \n",
    "        \"e\":{\"rain\":True, \"sick\":True, \"partner-takes-car\":False}}\n",
    "    ],\n",
    "    \"MAP/Mar\":\n",
    "    [\n",
    "    {\"Q\":[\"going-outside\"], \n",
    "    \"e\":{\"traffic\":True, \"car\":True, \"rain\":True, \"overslept\":False}},\n",
    "    {\"Q\":[\"stay-home\"], \n",
    "    \"e\":{\"party-last-night\":False, \"overslept\":True, \"arrive-on-time\":True}},\n",
    "    {\"Q\":[\"public-transport\"], \n",
    "    \"e\":{\"rain\":True, \"traffic\":False}}\n",
    "    ]}"
   ]
  },
  {
   "attachments": {},
   "cell_type": "markdown",
   "metadata": {},
   "source": [
    "Train the questions"
   ]
  },
  {
   "cell_type": "code",
   "execution_count": 4,
   "metadata": {},
   "outputs": [
    {
     "name": "stdout",
     "output_type": "stream",
     "text": [
      "[{'Q': ['car'], 'e': {}}]\n",
      "Variable Elimination\n",
      "{'rain':      car         p\n",
      "0  False  0.450007\n",
      "1   True  0.549993}\n",
      "\n",
      "\n",
      "\n",
      "[{'Q': [], 'e': {'rain': True, 'sick': True, 'partner-takes-car': False}}]\n",
      "(nan, 'sick: True, party-last-night: False stay-home: True going-outside: False, arrive-on-time: True partner-takes-car: False, traffic: False, rain: True, overslept: False, public-transport: False, bike: False, car: False')\n",
      "\n",
      "\n",
      "\n",
      "[{'Q': ['going-outside'], 'e': {'traffic': True, 'car': True, 'rain': True, 'overslept': False}}, {'Q': ['stay-home'], 'e': {'party-last-night': False, 'overslept': True, 'arrive-on-time': True}}, {'Q': ['public-transport'], 'e': {'rain': True, 'traffic': False}}]\n",
      "Marginal\n",
      "{'arrive-on-time':    going-outside  rain  traffic   car         p\n",
      "0          False  True     True  True  0.830269\n",
      "1           True  True     True  True  0.169731}\n",
      "MAP\n",
      "[   going-outside  rain  traffic   car         p\n",
      "0          False  True     True  True  0.003862\n",
      "1           True  True     True  True  0.000789]\n",
      "   rain traffic   car         p               ins. of\n",
      "0  True    True  True  0.003862  going-outside: False\n",
      "Marginal\n",
      "{'party-last-night':    party-last-night    p\n",
      "0             False  1.0, 'sick':     p\n",
      "0 NaN, 'partner-takes-car':    arrive-on-time    p\n",
      "0            True  1.0}\n",
      "MAP\n",
      "[]\n"
     ]
    },
    {
     "ename": "IndexError",
     "evalue": "list index out of range",
     "output_type": "error",
     "traceback": [
      "\u001b[0;31m---------------------------------------------------------------------------\u001b[0m",
      "\u001b[0;31mIndexError\u001b[0m                                Traceback (most recent call last)",
      "Cell \u001b[0;32mIn[4], line 40\u001b[0m\n\u001b[1;32m     38\u001b[0m                 \u001b[39mprint\u001b[39m(reasoner\u001b[39m.\u001b[39mmpe(evidence\u001b[39m=\u001b[39mquestion[\u001b[39m\"\u001b[39m\u001b[39me\u001b[39m\u001b[39m\"\u001b[39m]))\n\u001b[1;32m     39\u001b[0m         \u001b[39mprint\u001b[39m(\u001b[39m\"\u001b[39m\u001b[39m\\n\u001b[39;00m\u001b[39m\\n\u001b[39;00m\u001b[39m\"\u001b[39m)\n\u001b[0;32m---> 40\u001b[0m runAllQuestions()\n",
      "Cell \u001b[0;32mIn[4], line 35\u001b[0m, in \u001b[0;36mrunAllQuestions\u001b[0;34m()\u001b[0m\n\u001b[1;32m     33\u001b[0m             \u001b[39melse\u001b[39;00m:\n\u001b[1;32m     34\u001b[0m                 \u001b[39mprint\u001b[39m(\u001b[39m\"\u001b[39m\u001b[39mMAP\u001b[39m\u001b[39m\"\u001b[39m)\n\u001b[0;32m---> 35\u001b[0m                 \u001b[39mprint\u001b[39m(reasoner\u001b[39m.\u001b[39;49mmap(query\u001b[39m=\u001b[39;49mquestion[\u001b[39m\"\u001b[39;49m\u001b[39mQ\u001b[39;49m\u001b[39m\"\u001b[39;49m],evidence\u001b[39m=\u001b[39;49mquestion[\u001b[39m\"\u001b[39;49m\u001b[39me\u001b[39;49m\u001b[39m\"\u001b[39;49m]))\n\u001b[1;32m     36\u001b[0m \u001b[39melse\u001b[39;00m:\n\u001b[1;32m     37\u001b[0m     \u001b[39mfor\u001b[39;00m question \u001b[39min\u001b[39;00m questions[algoType]:\n",
      "File \u001b[0;32m~/projects/BNS/BNReasoner.py:206\u001b[0m, in \u001b[0;36mBNReasoner.map\u001b[0;34m(self, query, evidence, pruning, ordering)\u001b[0m\n\u001b[1;32m    204\u001b[0m     func[\u001b[39m0\u001b[39m] \u001b[39m=\u001b[39m \u001b[39mself\u001b[39m\u001b[39m.\u001b[39mfactorMultiplication(f1,f2)\n\u001b[1;32m    205\u001b[0m \u001b[39mprint\u001b[39m(func)\n\u001b[0;32m--> 206\u001b[0m func \u001b[39m=\u001b[39m func[\u001b[39m0\u001b[39;49m]\n\u001b[1;32m    207\u001b[0m \u001b[39mfor\u001b[39;00m q \u001b[39min\u001b[39;00m query:\n\u001b[1;32m    208\u001b[0m     func \u001b[39m=\u001b[39m \u001b[39mself\u001b[39m\u001b[39m.\u001b[39mmaxingOut(variable\u001b[39m=\u001b[39mq, cpt\u001b[39m=\u001b[39mfunc)\n",
      "\u001b[0;31mIndexError\u001b[0m: list index out of range"
     ]
    }
   ],
   "source": [
    "def runAllQuestions():\n",
    "    questions = {\n",
    "        \"Variable Elimination\":[\n",
    "            {\"Q\":[\"car\"], \n",
    "            \"e\":{}}\n",
    "        ],\n",
    "        \"MPE\": [\n",
    "            {\"Q\":[], \n",
    "            \"e\":{\"rain\":True, \"sick\":True, \"partner-takes-car\":False}}\n",
    "        ],\n",
    "        \"MAP/Mar\":\n",
    "        [\n",
    "        {\"Q\":[\"going-outside\"], \n",
    "        \"e\":{\"traffic\":True, \"car\":True, \"rain\":True, \"overslept\":False}},\n",
    "        {\"Q\":[\"stay-home\"], \n",
    "        \"e\":{\"party-last-night\":False, \"overslept\":True, \"arrive-on-time\":True}},\n",
    "        {\"Q\":[\"public-transport\"], \n",
    "        \"e\":{\"rain\":True, \"traffic\":False}}\n",
    "    ]}\n",
    "    for algoType in questions:\n",
    "        print(questions[algoType])\n",
    "        reasoner = BNReasoner(\"./testing/work-from-home-problem.BIFXML\")\n",
    "        if \"Variable\" in algoType:\n",
    "            print(algoType)\n",
    "            for question in questions[algoType]:\n",
    "                print(reasoner.variableElimination(query=question[\"Q\"]))\n",
    "        elif \"MAP\" in algoType:\n",
    "            for question in questions[algoType]:\n",
    "                for i in range(2):\n",
    "                    if not i:\n",
    "                        print(\"Marginal\")\n",
    "                        print(reasoner.marginalDistributions(query=question[\"Q\"],evidence=question[\"e\"]))\n",
    "                    else:\n",
    "                        print(\"MAP\")\n",
    "                        print(reasoner.map(query=question[\"Q\"],evidence=question[\"e\"]))\n",
    "        else:\n",
    "            for question in questions[algoType]:\n",
    "                print(reasoner.mpe(evidence=question[\"e\"]))\n",
    "        print(\"\\n\\n\")\n",
    "runAllQuestions()"
   ]
  }
 ],
 "metadata": {
  "kernelspec": {
   "display_name": "BNS",
   "language": "python",
   "name": "python3"
  },
  "language_info": {
   "codemirror_mode": {
    "name": "ipython",
    "version": 3
   },
   "file_extension": ".py",
   "mimetype": "text/x-python",
   "name": "python",
   "nbconvert_exporter": "python",
   "pygments_lexer": "ipython3",
   "version": "3.9.0"
  },
  "orig_nbformat": 4,
  "vscode": {
   "interpreter": {
    "hash": "cb7e3a273ca36ec0968751dce7b10b45db3fdb8f40848508dc9b9ec495f21cb5"
   }
  }
 },
 "nbformat": 4,
 "nbformat_minor": 2
}
