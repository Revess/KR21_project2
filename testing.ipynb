{
 "cells": [
  {
   "cell_type": "code",
   "execution_count": 13,
   "metadata": {},
   "outputs": [],
   "source": [
    "from BNReasoner import BNReasoner\n",
    "import numpy as np\n",
    "import pandas as pd\n",
    "import time as t\n",
    "import matplotlib.pylab as plt"
   ]
  },
  {
   "cell_type": "code",
   "execution_count": 14,
   "metadata": {},
   "outputs": [],
   "source": [
    "Queries = [ # Here I give an example of the input queries (Will finish tomorrow)\n",
    "    {\"Q\":[\"traffic\"], \n",
    "    \"e\":{\"rain\":True}}\n",
    "    ]"
   ]
  },
  {
   "cell_type": "code",
   "execution_count": 22,
   "metadata": {},
   "outputs": [
    {
     "name": "stdout",
     "output_type": "stream",
     "text": [
      "adding 0\n"
     ]
    },
    {
     "ename": "KeyError",
     "evalue": "0",
     "output_type": "error",
     "traceback": [
      "\u001b[0;31m---------------------------------------------------------------------------\u001b[0m",
      "\u001b[0;31mKeyError\u001b[0m                                  Traceback (most recent call last)",
      "Cell \u001b[0;32mIn[22], line 5\u001b[0m\n\u001b[1;32m      3\u001b[0m \u001b[39m# print(reasoner.marginalDistributions(query=query[\"Q\"],evidence=query[\"e\"]))\u001b[39;00m\n\u001b[1;32m      4\u001b[0m reasoner \u001b[39m=\u001b[39m BNReasoner(\u001b[39m\"\u001b[39m\u001b[39m./testing/work-from-home-problem.BIFXML\u001b[39m\u001b[39m\"\u001b[39m)\n\u001b[0;32m----> 5\u001b[0m \u001b[39mprint\u001b[39m(reasoner\u001b[39m.\u001b[39;49mmap(query\u001b[39m=\u001b[39;49mquery[\u001b[39m\"\u001b[39;49m\u001b[39mQ\u001b[39;49m\u001b[39m\"\u001b[39;49m],evidence\u001b[39m=\u001b[39;49mquery[\u001b[39m\"\u001b[39;49m\u001b[39me\u001b[39;49m\u001b[39m\"\u001b[39;49m]))\n\u001b[1;32m      6\u001b[0m reasoner \u001b[39m=\u001b[39m BNReasoner(\u001b[39m\"\u001b[39m\u001b[39m./testing/work-from-home-problem.BIFXML\u001b[39m\u001b[39m\"\u001b[39m)\n\u001b[1;32m      7\u001b[0m \u001b[39mprint\u001b[39m(reasoner\u001b[39m.\u001b[39mmpe(evidence\u001b[39m=\u001b[39mquery[\u001b[39m\"\u001b[39m\u001b[39me\u001b[39m\u001b[39m\"\u001b[39m]))\n",
      "File \u001b[0;32m~/projects/BNS/BNReasoner.py:197\u001b[0m, in \u001b[0;36mBNReasoner.map\u001b[0;34m(self, query, evidence, pruning)\u001b[0m\n\u001b[1;32m    195\u001b[0m \u001b[39mif\u001b[39;00m pruning:\n\u001b[1;32m    196\u001b[0m     \u001b[39mself\u001b[39m\u001b[39m.\u001b[39mpruneNetwork(Q\u001b[39m=\u001b[39mquery, evidence\u001b[39m=\u001b[39mevidence)\n\u001b[0;32m--> 197\u001b[0m cpts \u001b[39m=\u001b[39m \u001b[39mself\u001b[39;49m\u001b[39m.\u001b[39;49mvariableElimination(query\u001b[39m=\u001b[39;49mquery,evidence\u001b[39m=\u001b[39;49mevidence)\n\u001b[1;32m    198\u001b[0m func \u001b[39m=\u001b[39m [cpt \u001b[39mfor\u001b[39;00m key, cpt \u001b[39min\u001b[39;00m cpts\u001b[39m.\u001b[39mitems() \u001b[39mif\u001b[39;00m \u001b[39msum\u001b[39m([\u001b[39m1\u001b[39m \u001b[39mif\u001b[39;00m x \u001b[39min\u001b[39;00m query \u001b[39melse\u001b[39;00m \u001b[39m0\u001b[39m \u001b[39mfor\u001b[39;00m x \u001b[39min\u001b[39;00m cpt\u001b[39m.\u001b[39mcolumns ]) \u001b[39m>\u001b[39m \u001b[39m0\u001b[39m]\n\u001b[1;32m    199\u001b[0m \u001b[39mwhile\u001b[39;00m \u001b[39mlen\u001b[39m(func) \u001b[39m>\u001b[39m \u001b[39m1\u001b[39m:\n",
      "File \u001b[0;32m~/projects/BNS/BNReasoner.py:171\u001b[0m, in \u001b[0;36mBNReasoner.variableElimination\u001b[0;34m(self, query, evidence, ordering)\u001b[0m\n\u001b[1;32m    169\u001b[0m \u001b[39mself\u001b[39m\u001b[39m.\u001b[39mreduceNet(evidence\u001b[39m=\u001b[39mevidence) \u001b[39m# First we set our evidence to True\u001b[39;00m\n\u001b[1;32m    170\u001b[0m cpts \u001b[39m=\u001b[39m \u001b[39mself\u001b[39m\u001b[39m.\u001b[39mbn\u001b[39m.\u001b[39mget_all_cpts()\n\u001b[0;32m--> 171\u001b[0m order \u001b[39m=\u001b[39m [var \u001b[39mfor\u001b[39;00m var \u001b[39min\u001b[39;00m \u001b[39mself\u001b[39;49m\u001b[39m.\u001b[39;49mOrdering(ordering) \u001b[39mif\u001b[39;00m var \u001b[39mnot\u001b[39;00m \u001b[39min\u001b[39;00m query]\n\u001b[1;32m    172\u001b[0m func \u001b[39m=\u001b[39m []\n\u001b[1;32m    173\u001b[0m \u001b[39mfor\u001b[39;00m var \u001b[39min\u001b[39;00m order:\n",
      "File \u001b[0;32m~/projects/BNS/BNReasoner.py:140\u001b[0m, in \u001b[0;36mBNReasoner.Ordering\u001b[0;34m(self, heuristic)\u001b[0m\n\u001b[1;32m    138\u001b[0m             \u001b[39mif\u001b[39;00m new_edges[ae] \u001b[39mnot\u001b[39;00m \u001b[39min\u001b[39;00m graph[new_edges[ne]]:\n\u001b[1;32m    139\u001b[0m                 \u001b[39mprint\u001b[39m(\u001b[39m'\u001b[39m\u001b[39madding\u001b[39m\u001b[39m'\u001b[39m, ne)\n\u001b[0;32m--> 140\u001b[0m                 degrees[ne] \u001b[39m+\u001b[39m\u001b[39m=\u001b[39m \u001b[39m1\u001b[39m\n\u001b[1;32m    141\u001b[0m     \u001b[39mdel\u001b[39;00m degrees[e]\n\u001b[1;32m    142\u001b[0m \u001b[39mreturn\u001b[39;00m order\n",
      "\u001b[0;31mKeyError\u001b[0m: 0"
     ]
    }
   ],
   "source": [
    "for query in Queries:\n",
    "    reasoner = BNReasoner(\"./testing/work-from-home-problem.BIFXML\")\n",
    "    # print(reasoner.marginalDistributions(query=query[\"Q\"],evidence=query[\"e\"]))\n",
    "    reasoner = BNReasoner(\"./testing/work-from-home-problem.BIFXML\")\n",
    "    print(reasoner.map(query=query[\"Q\"],evidence=query[\"e\"]))\n",
    "    reasoner = BNReasoner(\"./testing/work-from-home-problem.BIFXML\")\n",
    "    print(reasoner.mpe(evidence=query[\"e\"]))"
   ]
  }
 ],
 "metadata": {
  "kernelspec": {
   "display_name": "BNS",
   "language": "python",
   "name": "python3"
  },
  "language_info": {
   "codemirror_mode": {
    "name": "ipython",
    "version": 3
   },
   "file_extension": ".py",
   "mimetype": "text/x-python",
   "name": "python",
   "nbconvert_exporter": "python",
   "pygments_lexer": "ipython3",
   "version": "3.9.0"
  },
  "orig_nbformat": 4,
  "vscode": {
   "interpreter": {
    "hash": "cb7e3a273ca36ec0968751dce7b10b45db3fdb8f40848508dc9b9ec495f21cb5"
   }
  }
 },
 "nbformat": 4,
 "nbformat_minor": 2
}
