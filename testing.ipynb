{
 "cells": [
  {
   "cell_type": "code",
   "execution_count": 1,
   "metadata": {},
   "outputs": [
    {
     "name": "stderr",
     "output_type": "stream",
     "text": [
      "/home/revess/anaconda3/envs/BNS/lib/python3.9/site-packages/tqdm/auto.py:22: TqdmWarning: IProgress not found. Please update jupyter and ipywidgets. See https://ipywidgets.readthedocs.io/en/stable/user_install.html\n",
      "  from .autonotebook import tqdm as notebook_tqdm\n"
     ]
    },
    {
     "name": "stdout",
     "output_type": "stream",
     "text": [
      "  partner-takes-car        p               ins. of\n",
      "0              True  0.20653  arrive-on-time: True\n",
      "{'rain':    partner-takes-car  arrive-on-time         p\n",
      "0               True           False  0.402401\n",
      "1               True            True  0.597599}\n"
     ]
    }
   ],
   "source": [
    "from BNReasoner import BNReasoner\n",
    "import numpy as np\n",
    "import pandas as pd\n",
    "import time as t\n",
    "import matplotlib.pylab as plt\n",
    "from tqdm import tqdm\n",
    "reasoner = BNReasoner(\"./testing/work-from-home-problem.BIFXML\")\n",
    "nodes = reasoner.bn.get_all_variables()"
   ]
  },
  {
   "attachments": {},
   "cell_type": "markdown",
   "metadata": {},
   "source": [
    "Performance scenarios are randomized"
   ]
  },
  {
   "cell_type": "code",
   "execution_count": 2,
   "metadata": {},
   "outputs": [],
   "source": [
    "mediumLength = 3\n",
    "highLength = 6\n",
    "randMax = 6\n",
    "scenarios = {\n",
    "    \"s1\": {\"Q\": np.random.choice(nodes,1, replace=False).tolist(),\"e\":{}},\n",
    "    \"s2\": {\"Q\": np.random.choice(nodes,1, replace=False).tolist(),\"e\": {k:v for k,v in zip(np.random.choice(nodes,1, replace=False).tolist(),np.random.choice([True,False],1).tolist())}},\n",
    "    \"s3\": {\"Q\": np.random.choice(nodes,1, replace=False).tolist(),\"e\": {k:v for k,v in zip(np.random.choice(nodes,mediumLength, replace=False).tolist(),np.random.choice([True,False],mediumLength).tolist())}},\n",
    "    \"s4\": {\"Q\": np.random.choice(nodes,1, replace=False).tolist(),\"e\": {k:v for k,v in zip(np.random.choice(nodes,highLength, replace=False).tolist(),np.random.choice([True,False],highLength).tolist())}},\n",
    "    \"s5\": {\"Q\": np.random.choice(nodes,np.random.randint(2,randMax), replace=False).tolist(),\"e\": {}},\n",
    "    \"s6\": {\"Q\": np.random.choice(nodes,np.random.randint(2,randMax), replace=False).tolist(),\"e\": {k:v for k,v in zip(np.random.choice(nodes,1, replace=False).tolist(),np.random.choice([True,False],1).tolist())}},\n",
    "    \"s7\": {\"Q\": np.random.choice(nodes,np.random.randint(2,randMax), replace=False).tolist(),\"e\": {k:v for k,v in zip(np.random.choice(nodes,mediumLength, replace=False).tolist(),np.random.choice([True,False],mediumLength).tolist())}},\n",
    "    \"s8\": {\"Q\": np.random.choice(nodes,np.random.randint(2,randMax), replace=False).tolist(),\"e\": {k:v for k,v in zip(np.random.choice(nodes,highLength, replace=False).tolist(),np.random.choice([True,False],highLength).tolist())}},\n",
    "}"
   ]
  },
  {
   "attachments": {},
   "cell_type": "markdown",
   "metadata": {},
   "source": [
    "Ik moet even wachten tot mijn vriendin uit de woonkamer is"
   ]
  },
  {
   "cell_type": "code",
   "execution_count": 3,
   "metadata": {},
   "outputs": [
    {
     "name": "stderr",
     "output_type": "stream",
     "text": [
      " 41%|████      | 41/100 [02:22<03:33,  3.62s/it]"
     ]
    },
    {
     "name": "stdout",
     "output_type": "stream",
     "text": [
      "\"['partner-takes-car'] not found in axis\"\n",
      "{'Q': ['bike'], 'e': {'partner-takes-car': True, 'car': True, 'arrive-on-time': True, 'bike': False, 'stay-home': True, 'traffic': False}}\n"
     ]
    },
    {
     "name": "stderr",
     "output_type": "stream",
     "text": [
      "100%|██████████| 100/100 [05:32<00:00,  3.33s/it]\n",
      "100%|██████████| 100/100 [05:02<00:00,  3.03s/it]\n",
      " 24%|██▍       | 24/100 [01:27<05:03,  4.00s/it]"
     ]
    },
    {
     "name": "stdout",
     "output_type": "stream",
     "text": [
      "\"['rain'] not found in axis\"\n",
      "{'Q': ['arrive-on-time', 'going-outside'], 'e': {'bike': False, 'going-outside': False, 'traffic': True, 'overslept': False, 'partner-takes-car': True, 'party-last-night': True}}\n"
     ]
    },
    {
     "name": "stderr",
     "output_type": "stream",
     "text": [
      "100%|██████████| 100/100 [05:35<00:00,  3.35s/it]\n",
      " 26%|██▌       | 26/100 [01:33<04:40,  3.80s/it]"
     ]
    },
    {
     "name": "stdout",
     "output_type": "stream",
     "text": [
      "\"['rain'] not found in axis\"\n",
      "{'Q': ['arrive-on-time'], 'e': {'partner-takes-car': True}}\n"
     ]
    },
    {
     "name": "stderr",
     "output_type": "stream",
     "text": [
      " 58%|█████▊    | 58/100 [03:27<02:35,  3.70s/it]"
     ]
    },
    {
     "name": "stdout",
     "output_type": "stream",
     "text": [
      "\"['rain'] not found in axis\"\n",
      "{'Q': ['traffic'], 'e': {'partner-takes-car': True, 'arrive-on-time': True, 'traffic': False}}\n"
     ]
    },
    {
     "name": "stderr",
     "output_type": "stream",
     "text": [
      "100%|██████████| 100/100 [05:50<00:00,  3.50s/it]\n"
     ]
    }
   ],
   "source": [
    "runTimes = {\"pruning\":[], \"ordering-heuristic\":[], \"scenario\": [], \"method\": [], \"runtime\": [], \"epoch\": []}\n",
    "for pruning in [True,False]:\n",
    "    for heuristic in ['min-degree', 'min-fill']:\n",
    "        for epoch in tqdm(range(100)):\n",
    "            scenarios = {\n",
    "                \"s1\": {\"Q\": np.random.choice(nodes,1, replace=False).tolist(),\"e\":{}},\n",
    "                \"s2\": {\"Q\": np.random.choice(nodes,1, replace=False).tolist(),\"e\": {k:v for k,v in zip(np.random.choice(nodes,1, replace=False).tolist(),np.random.choice([True,False],1).tolist())}},\n",
    "                \"s3\": {\"Q\": np.random.choice(nodes,1, replace=False).tolist(),\"e\": {k:v for k,v in zip(np.random.choice(nodes,mediumLength, replace=False).tolist(),np.random.choice([True,False],mediumLength).tolist())}},\n",
    "                \"s4\": {\"Q\": np.random.choice(nodes,1, replace=False).tolist(),\"e\": {k:v for k,v in zip(np.random.choice(nodes,highLength, replace=False).tolist(),np.random.choice([True,False],highLength).tolist())}},\n",
    "                \"s5\": {\"Q\": np.random.choice(nodes,np.random.randint(2,randMax), replace=False).tolist(),\"e\": {}},\n",
    "                \"s6\": {\"Q\": np.random.choice(nodes,np.random.randint(2,randMax), replace=False).tolist(),\"e\": {k:v for k,v in zip(np.random.choice(nodes,1, replace=False).tolist(),np.random.choice([True,False],1).tolist())}},\n",
    "                \"s7\": {\"Q\": np.random.choice(nodes,np.random.randint(2,randMax), replace=False).tolist(),\"e\": {k:v for k,v in zip(np.random.choice(nodes,mediumLength, replace=False).tolist(),np.random.choice([True,False],mediumLength).tolist())}},\n",
    "                \"s8\": {\"Q\": np.random.choice(nodes,np.random.randint(2,randMax), replace=False).tolist(),\"e\": {k:v for k,v in zip(np.random.choice(nodes,highLength, replace=False).tolist(),np.random.choice([True,False],highLength).tolist())}},\n",
    "            }\n",
    "            for scenarioName in scenarios:\n",
    "                scenario = scenarios[scenarioName]\n",
    "                try:\n",
    "                    for method in [\"MAP\", \"MargDist\"]:\n",
    "                        reasoner = BNReasoner(\"./testing/work-from-home-problem.BIFXML\") #< Eerst een nieuwe aanmaken\n",
    "                        if method == \"MargDist\":\n",
    "                            start = t.time()\n",
    "                            reasoner.marginalDistributions(query=scenario[\"Q\"], evidence=scenario[\"e\"], pruning=pruning, ordering=heuristic)\n",
    "                            runTimes[\"pruning\"].append(pruning)\n",
    "                            runTimes[\"ordering-heuristic\"].append(heuristic)\n",
    "                            runTimes[\"scenario\"].append(scenarioName)\n",
    "                            runTimes[\"method\"].append(method)\n",
    "                            runTimes[\"runtime\"].append(t.time()-start)\n",
    "                            runTimes[\"epoch\"].append(epoch+1)\n",
    "                        else:\n",
    "                            start = t.time()\n",
    "                            reasoner.map(query=scenario[\"Q\"], evidence=scenario[\"e\"], pruning=pruning, ordering=heuristic)\n",
    "                            runTimes[\"pruning\"].append(pruning)\n",
    "                            runTimes[\"ordering-heuristic\"].append(heuristic)\n",
    "                            runTimes[\"scenario\"].append(scenarioName)\n",
    "                            runTimes[\"method\"].append(method)\n",
    "                            runTimes[\"runtime\"].append(t.time()-start)\n",
    "                            runTimes[\"epoch\"].append(epoch+1)\n",
    "                except Exception as e:\n",
    "                    print(e)\n",
    "                    print(scenario)\n",
    "            pd.DataFrame.from_dict(runTimes).to_csv(\"./scenarioResults.csv\",index=False)\n",
    "            "
   ]
  },
  {
   "cell_type": "code",
   "execution_count": 4,
   "metadata": {},
   "outputs": [],
   "source": [
    "pd.DataFrame.from_dict(runTimes).to_csv(\"./scenarioResults.csv\",index=False)"
   ]
  },
  {
   "cell_type": "code",
   "execution_count": 27,
   "metadata": {},
   "outputs": [],
   "source": [
    "df = pd.read_csv(\"./scenarioResults.csv\")"
   ]
  },
  {
   "cell_type": "code",
   "execution_count": 2,
   "metadata": {},
   "outputs": [
    {
     "name": "stdout",
     "output_type": "stream",
     "text": [
      "Pruning\n"
     ]
    },
    {
     "ename": "NameError",
     "evalue": "name 'df' is not defined",
     "output_type": "error",
     "traceback": [
      "\u001b[0;31m---------------------------------------------------------------------------\u001b[0m",
      "\u001b[0;31mNameError\u001b[0m                                 Traceback (most recent call last)",
      "Cell \u001b[0;32mIn[2], line 3\u001b[0m\n\u001b[1;32m      1\u001b[0m \u001b[39mfrom\u001b[39;00m \u001b[39mscipy\u001b[39;00m\u001b[39m.\u001b[39;00m\u001b[39mstats\u001b[39;00m \u001b[39mimport\u001b[39;00m ttest_ind\n\u001b[1;32m      2\u001b[0m \u001b[39mprint\u001b[39m(\u001b[39m\"\u001b[39m\u001b[39mPruning\u001b[39m\u001b[39m\"\u001b[39m)\n\u001b[0;32m----> 3\u001b[0m data1 \u001b[39m=\u001b[39m df\u001b[39m.\u001b[39mloc[(df[\u001b[39m'\u001b[39m\u001b[39mpruning\u001b[39m\u001b[39m'\u001b[39m] \u001b[39m==\u001b[39m \u001b[39mFalse\u001b[39;00m)][\u001b[39m'\u001b[39m\u001b[39mruntime\u001b[39m\u001b[39m'\u001b[39m]\u001b[39m.\u001b[39mto_numpy()\n\u001b[1;32m      4\u001b[0m data2 \u001b[39m=\u001b[39m df\u001b[39m.\u001b[39mloc[(df[\u001b[39m'\u001b[39m\u001b[39mpruning\u001b[39m\u001b[39m'\u001b[39m] \u001b[39m==\u001b[39m \u001b[39mTrue\u001b[39;00m)][\u001b[39m'\u001b[39m\u001b[39mruntime\u001b[39m\u001b[39m'\u001b[39m]\u001b[39m.\u001b[39mto_numpy()\n\u001b[1;32m      5\u001b[0m stat, p \u001b[39m=\u001b[39m ttest_ind(data1, data2)\n",
      "\u001b[0;31mNameError\u001b[0m: name 'df' is not defined"
     ]
    }
   ],
   "source": [
    "from scipy.stats import ttest_ind\n",
    "print(\"Pruning\")\n",
    "data1 = df.loc[(df['pruning'] == False)]['runtime'].to_numpy()\n",
    "data2 = df.loc[(df['pruning'] == True)]['runtime'].to_numpy()\n",
    "stat, p = ttest_ind(data1, data2)\n",
    "print('stat=%.3f, p=%.3f' % (stat, p))\n",
    "if p > 0.05:\n",
    "    print('Probably the same distribution')\n",
    "else:\n",
    "    print('Probably different distributions')\n",
    "\n",
    "print()\n",
    "print(\"ordering\")\n",
    "data1 = df.loc[(df['ordering-heuristic'] == 'min-degree')]['runtime'].to_numpy()\n",
    "data2 = df.loc[(df['ordering-heuristic'] == 'min-fill')]['runtime'].to_numpy()\n",
    "stat, p = ttest_ind(data1, data2)\n",
    "print('stat=%.3f, p=%.3f' % (stat, p))\n",
    "if p > 0.05:\n",
    "    print('Probably the same distribution')\n",
    "else:\n",
    "    print('Probably different distributions')\n",
    "\n",
    "\n",
    "print()\n",
    "print(\"Pruning & min-degree\")\n",
    "data1 = df.loc[(df['pruning'] == False) & (df[\"ordering-heuristic\"] == 'min-degree')]['runtime'].to_numpy()\n",
    "data2 = df.loc[(df['pruning'] == True) & (df[\"ordering-heuristic\"] == 'min-degree')]['runtime'].to_numpy()\n",
    "stat, p = ttest_ind(data1, data2)\n",
    "print('stat=%.3f, p=%.3f' % (stat, p))\n",
    "if p > 0.05:\n",
    "    print('Probably the same distribution')\n",
    "else:\n",
    "    print('Probably different distributions')\n",
    "\n",
    "print()\n",
    "print(\"Pruning & min-fill\")\n",
    "data1 = df.loc[(df['pruning'] == False) & (df[\"ordering-heuristic\"] == 'min-fill')]['runtime'].to_numpy()\n",
    "data2 = df.loc[(df['pruning'] == True) & (df[\"ordering-heuristic\"] == 'min-fill')]['runtime'].to_numpy()\n",
    "stat, p = ttest_ind(data1, data2)\n",
    "print('stat=%.3f, p=%.3f' % (stat, p))\n",
    "if p > 0.05:\n",
    "    print('Probably the same distribution')\n",
    "else:\n",
    "    print('Probably different distributions')\n",
    "\n",
    "print()\n",
    "print(\"ordering & pruning=True\")\n",
    "data1 = df.loc[(df['ordering-heuristic'] == 'min-degree') & (df['pruning'] == True)]['runtime'].to_numpy()\n",
    "data2 = df.loc[(df['ordering-heuristic'] == 'min-fill') & (df['pruning'] == True)]['runtime'].to_numpy()\n",
    "stat, p = ttest_ind(data1, data2)\n",
    "print('stat=%.3f, p=%.3f' % (stat, p))\n",
    "if p > 0.05:\n",
    "    print('Probably the same distribution')\n",
    "else:\n",
    "    print('Probably different distributions')\n",
    "\n",
    "print()\n",
    "print(\"ordering & pruning=False\")\n",
    "data1 = df.loc[(df['ordering-heuristic'] == 'min-degree') & (df['pruning'] == False)]['runtime'].to_numpy()\n",
    "data2 = df.loc[(df['ordering-heuristic'] == 'min-fill') & (df['pruning'] == False)]['runtime'].to_numpy()\n",
    "stat, p = ttest_ind(data1, data2)\n",
    "print('stat=%.3f, p=%.3f' % (stat, p))\n",
    "if p > 0.05:\n",
    "    print('Probably the same distribution')\n",
    "else:\n",
    "    print('Probably different distributions')"
   ]
  },
  {
   "attachments": {},
   "cell_type": "markdown",
   "metadata": {},
   "source": [
    "Questions"
   ]
  },
  {
   "cell_type": "code",
   "execution_count": 3,
   "metadata": {},
   "outputs": [],
   "source": [
    "questions = {\n",
    "    \"Variable Elimination\":[\n",
    "        {\"Q\":[\"car\"], \n",
    "        \"e\":{}}\n",
    "    ],\n",
    "    \"MPE\": [\n",
    "        {\"Q\":[], \n",
    "        \"e\":{\"rain\":True, \"sick\":True, \"partner-takes-car\":False}}\n",
    "    ],\n",
    "    \"MAP/Mar\":\n",
    "    [\n",
    "    {\"Q\":[\"going-outside\"], \n",
    "    \"e\":{\"traffic\":True, \"car\":True, \"rain\":True, \"overslept\":False}},\n",
    "    {\"Q\":[\"stay-home\"], \n",
    "    \"e\":{\"party-last-night\":False, \"overslept\":True, \"arrive-on-time\":True}},\n",
    "    {\"Q\":[\"public-transport\"], \n",
    "    \"e\":{\"rain\":True, \"traffic\":False}}\n",
    "    ]}"
   ]
  },
  {
   "attachments": {},
   "cell_type": "markdown",
   "metadata": {},
   "source": [
    "Train the questions"
   ]
  },
  {
   "cell_type": "code",
   "execution_count": 21,
   "metadata": {},
   "outputs": [],
   "source": [
    "def runAllQuestions():\n",
    "    questions = {\n",
    "        \"Variable Elimination\":[\n",
    "            {\"Q\":[\"car\"], \n",
    "            \"e\":{}}\n",
    "        ],\n",
    "        \"MPE\": [\n",
    "            {\"Q\":[], \n",
    "            \"e\":{\"rain\":True, \"sick\":True, \"partner-takes-car\":False}}\n",
    "        ],\n",
    "        \"MAP/Mar\":\n",
    "        [\n",
    "        {\"Q\":[\"going-outside\"], \n",
    "        \"e\":{\"traffic\":True, \"car\":True, \"rain\":True, \"overslept\":False}},\n",
    "        {\"Q\":[\"stay-home\"], \n",
    "        \"e\":{\"party-last-night\":False, \"overslept\":True, \"arrive-on-time\":True}},\n",
    "        {\"Q\":[\"public-transport\"], \n",
    "        \"e\":{\"rain\":True, \"traffic\":False}}\n",
    "    ]}\n",
    "    for algoType in questions:\n",
    "        if \"Variable\" in algoType:\n",
    "            for question in questions[algoType]:\n",
    "                Q = question[\"Q\"]\n",
    "                e = question[\"e\"]\n",
    "                reasoner = BNReasoner(\"./testing/work-from-home-problem.BIFXML\")\n",
    "                reasoner.pruneNetwork(Q=question['Q'])\n",
    "                out = reasoner.variableElimination(query=question[\"Q\"], ordering='min-fill')\n",
    "                algoName = \"Variable_Elimination\"\n",
    "                if type(out) == type(dict()):\n",
    "                    list(out.values())[0].to_csv(f\"./queryAnswers/{algoName}_Q_{Q}_e_{e}.csv\")\n",
    "                elif type(out) == type(tuple()):\n",
    "                    with open(f\"./queryAnswers/{algoName}_Q_{Q}_e_{e}.txt\",\"w\") as file_:\n",
    "                        file_.write(\"\\n\".join([f\"{x}\" for x in out]))\n",
    "                else:\n",
    "                    out.to_csv(f\"./queryAnswers/{algoName}_Q_{Q}_e_{e}.csv\")\n",
    "        elif \"MAP\" in algoType:\n",
    "            for question in questions[algoType]:\n",
    "                Q = question[\"Q\"]\n",
    "                e = question[\"e\"]\n",
    "                for i in range(2):\n",
    "                    if not i:\n",
    "                        reasoner = BNReasoner(\"./testing/work-from-home-problem.BIFXML\")\n",
    "                        out = reasoner.marginalDistributions(query=question[\"Q\"],evidence=question[\"e\"], pruning=True, ordering='min-fill')\n",
    "                        algoName = \"Marginal_Distributions\"\n",
    "                    else:\n",
    "                        reasoner = BNReasoner(\"./testing/work-from-home-problem.BIFXML\")\n",
    "                        out = reasoner.map(query=question[\"Q\"],evidence=question[\"e\"], pruning=True, ordering='min-fill')\n",
    "                        algoName = \"MAP\"\n",
    "                    if type(out) == type(dict()):\n",
    "                        list(out.values())[0].to_csv(f\"./queryAnswers/{algoName}_Q_{Q}_e_{e}.csv\")\n",
    "                    elif type(out) == type(tuple()):\n",
    "                        with open(f\"./queryAnswers/{algoName}_Q_{Q}_e_{e}.txt\",\"w\") as file_:\n",
    "                            file_.write(\"\\n\".join([f\"{x}\" for x in out]))\n",
    "                    else:\n",
    "                        out.to_csv(f\"./queryAnswers/{algoName}_Q_{Q}_e_{e}.csv\")\n",
    "        else:\n",
    "            for question in questions[algoType]:\n",
    "                Q = question[\"Q\"]\n",
    "                e = question[\"e\"]\n",
    "                reasoner = BNReasoner(\"./testing/work-from-home-problem.BIFXML\")\n",
    "                out = reasoner.mpe(evidence=question[\"e\"], pruning=True, ordering='min-fill')\n",
    "                algoName = \"MPE\"\n",
    "                if type(out) == type(dict()):\n",
    "                    list(out.values())[0].to_csv(f\"./queryAnswers/{algoName}_Q_{Q}_e_{e}.csv\")\n",
    "                elif type(out) == type(tuple()):\n",
    "                    with open(f\"./queryAnswers/{algoName}_Q_{Q}_e_{e}.txt\",\"w\") as file_:\n",
    "                        file_.write(\"\\n\".join([f\"{x}\" for x in out]))\n",
    "                else:\n",
    "                    out.to_csv(f\"./queryAnswers/{algoName}_Q_{Q}_e_{e}.csv\")\n",
    "runAllQuestions()"
   ]
  }
 ],
 "metadata": {
  "kernelspec": {
   "display_name": "BNS",
   "language": "python",
   "name": "python3"
  },
  "language_info": {
   "codemirror_mode": {
    "name": "ipython",
    "version": 3
   },
   "file_extension": ".py",
   "mimetype": "text/x-python",
   "name": "python",
   "nbconvert_exporter": "python",
   "pygments_lexer": "ipython3",
   "version": "3.9.0"
  },
  "orig_nbformat": 4,
  "vscode": {
   "interpreter": {
    "hash": "cb7e3a273ca36ec0968751dce7b10b45db3fdb8f40848508dc9b9ec495f21cb5"
   }
  }
 },
 "nbformat": 4,
 "nbformat_minor": 2
}
